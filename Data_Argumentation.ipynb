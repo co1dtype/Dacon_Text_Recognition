{
 "cells": [
  {
   "cell_type": "markdown",
   "id": "c025287c-df30-4088-a4eb-ed5047fba153",
   "metadata": {},
   "source": [
    "## Import"
   ]
  },
  {
   "cell_type": "code",
   "execution_count": 2,
   "id": "f91ac0a7-e859-4c17-9560-13b9a2d0bb2b",
   "metadata": {},
   "outputs": [
    {
     "ename": "ImportError",
     "evalue": "libGL.so.1: cannot open shared object file: No such file or directory",
     "output_type": "error",
     "traceback": [
      "\u001b[0;31m---------------------------------------------------------------------------\u001b[0m",
      "\u001b[0;31mImportError\u001b[0m                               Traceback (most recent call last)",
      "Input \u001b[0;32mIn [2]\u001b[0m, in \u001b[0;36m<cell line: 4>\u001b[0;34m()\u001b[0m\n\u001b[1;32m      2\u001b[0m \u001b[38;5;28;01mimport\u001b[39;00m \u001b[38;5;21;01mmatplotlib\u001b[39;00m\u001b[38;5;21;01m.\u001b[39;00m\u001b[38;5;21;01mpyplot\u001b[39;00m \u001b[38;5;28;01mas\u001b[39;00m \u001b[38;5;21;01mplt\u001b[39;00m\n\u001b[1;32m      3\u001b[0m \u001b[38;5;28;01mimport\u001b[39;00m \u001b[38;5;21;01mpandas\u001b[39;00m \u001b[38;5;28;01mas\u001b[39;00m \u001b[38;5;21;01mpd\u001b[39;00m\n\u001b[0;32m----> 4\u001b[0m \u001b[38;5;28;01mimport\u001b[39;00m \u001b[38;5;21;01mcv2\u001b[39;00m\n\u001b[1;32m      5\u001b[0m \u001b[38;5;28;01mimport\u001b[39;00m \u001b[38;5;21;01mrandom\u001b[39;00m\n\u001b[1;32m      6\u001b[0m \u001b[38;5;28;01mimport\u001b[39;00m \u001b[38;5;21;01mos\u001b[39;00m\n",
      "File \u001b[0;32m/usr/local/lib/python3.8/dist-packages/cv2/__init__.py:181\u001b[0m, in \u001b[0;36m<module>\u001b[0;34m\u001b[0m\n\u001b[1;32m    176\u001b[0m             \u001b[38;5;28;01mif\u001b[39;00m DEBUG: \u001b[38;5;28mprint\u001b[39m(\u001b[38;5;124m\"\u001b[39m\u001b[38;5;124mExtra Python code for\u001b[39m\u001b[38;5;124m\"\u001b[39m, submodule, \u001b[38;5;124m\"\u001b[39m\u001b[38;5;124mis loaded\u001b[39m\u001b[38;5;124m\"\u001b[39m)\n\u001b[1;32m    178\u001b[0m     \u001b[38;5;28;01mif\u001b[39;00m DEBUG: \u001b[38;5;28mprint\u001b[39m(\u001b[38;5;124m'\u001b[39m\u001b[38;5;124mOpenCV loader: DONE\u001b[39m\u001b[38;5;124m'\u001b[39m)\n\u001b[0;32m--> 181\u001b[0m \u001b[43mbootstrap\u001b[49m\u001b[43m(\u001b[49m\u001b[43m)\u001b[49m\n",
      "File \u001b[0;32m/usr/local/lib/python3.8/dist-packages/cv2/__init__.py:153\u001b[0m, in \u001b[0;36mbootstrap\u001b[0;34m()\u001b[0m\n\u001b[1;32m    149\u001b[0m \u001b[38;5;28;01mif\u001b[39;00m DEBUG: \u001b[38;5;28mprint\u001b[39m(\u001b[38;5;124m\"\u001b[39m\u001b[38;5;124mRelink everything from native cv2 module to cv2 package\u001b[39m\u001b[38;5;124m\"\u001b[39m)\n\u001b[1;32m    151\u001b[0m py_module \u001b[38;5;241m=\u001b[39m sys\u001b[38;5;241m.\u001b[39mmodules\u001b[38;5;241m.\u001b[39mpop(\u001b[38;5;124m\"\u001b[39m\u001b[38;5;124mcv2\u001b[39m\u001b[38;5;124m\"\u001b[39m)\n\u001b[0;32m--> 153\u001b[0m native_module \u001b[38;5;241m=\u001b[39m \u001b[43mimportlib\u001b[49m\u001b[38;5;241;43m.\u001b[39;49m\u001b[43mimport_module\u001b[49m\u001b[43m(\u001b[49m\u001b[38;5;124;43m\"\u001b[39;49m\u001b[38;5;124;43mcv2\u001b[39;49m\u001b[38;5;124;43m\"\u001b[39;49m\u001b[43m)\u001b[49m\n\u001b[1;32m    155\u001b[0m sys\u001b[38;5;241m.\u001b[39mmodules[\u001b[38;5;124m\"\u001b[39m\u001b[38;5;124mcv2\u001b[39m\u001b[38;5;124m\"\u001b[39m] \u001b[38;5;241m=\u001b[39m py_module\n\u001b[1;32m    156\u001b[0m \u001b[38;5;28msetattr\u001b[39m(py_module, \u001b[38;5;124m\"\u001b[39m\u001b[38;5;124m_native\u001b[39m\u001b[38;5;124m\"\u001b[39m, native_module)\n",
      "File \u001b[0;32m/usr/lib/python3.8/importlib/__init__.py:127\u001b[0m, in \u001b[0;36mimport_module\u001b[0;34m(name, package)\u001b[0m\n\u001b[1;32m    125\u001b[0m             \u001b[38;5;28;01mbreak\u001b[39;00m\n\u001b[1;32m    126\u001b[0m         level \u001b[38;5;241m+\u001b[39m\u001b[38;5;241m=\u001b[39m \u001b[38;5;241m1\u001b[39m\n\u001b[0;32m--> 127\u001b[0m \u001b[38;5;28;01mreturn\u001b[39;00m \u001b[43m_bootstrap\u001b[49m\u001b[38;5;241;43m.\u001b[39;49m\u001b[43m_gcd_import\u001b[49m\u001b[43m(\u001b[49m\u001b[43mname\u001b[49m\u001b[43m[\u001b[49m\u001b[43mlevel\u001b[49m\u001b[43m:\u001b[49m\u001b[43m]\u001b[49m\u001b[43m,\u001b[49m\u001b[43m \u001b[49m\u001b[43mpackage\u001b[49m\u001b[43m,\u001b[49m\u001b[43m \u001b[49m\u001b[43mlevel\u001b[49m\u001b[43m)\u001b[49m\n",
      "\u001b[0;31mImportError\u001b[0m: libGL.so.1: cannot open shared object file: No such file or directory"
     ]
    }
   ],
   "source": [
    "import numpy as np\n",
    "import matplotlib.pyplot as plt\n",
    "import pandas as pd\n",
    "import cv2\n",
    "import random\n",
    "import os\n",
    "from tqdm.auto import tqdm\n",
    "import warnings\n",
    "warnings.filterwarnings('ignore')"
   ]
  },
  {
   "cell_type": "code",
   "execution_count": null,
   "id": "03e9620f-5973-4e27-ae13-f567a711f43a",
   "metadata": {},
   "outputs": [],
   "source": [
    "df = pd.read_csv('./train.csv')\n",
    "df['len'] = df['label'].str.len()"
   ]
  },
  {
   "cell_type": "markdown",
   "id": "7cdb302d-7e21-454c-9cf3-4708fadaabb5",
   "metadata": {},
   "source": [
    "## Image check"
   ]
  },
  {
   "cell_type": "code",
   "execution_count": null,
   "id": "e21dcfb8-8ff0-46fc-9ddf-7397ef244837",
   "metadata": {},
   "outputs": [],
   "source": [
    "select1, select2 = random.randint(0, 76888), random.randint(0, 76888)\n",
    "imgFile1 = f'./train/TRAIN_{select1:05d}.png'\n",
    "imgFile2 = f'./train/TRAIN_{select2:05d}.png'\n",
    "\n",
    "\n",
    "# 이미지 읽기\n",
    "img1 = cv2.imread(imgFile1, 1);\n",
    "img2 = cv2.imread(imgFile2, 1);\n",
    "\n",
    "# 사이즈 조절\n",
    "img1 = cv2.resize(img1,(100,125))\n",
    "img2 = cv2.resize(img2,(100,125))\n",
    "\n",
    "# 이미지 붙이기\n",
    "addh = cv2.hconcat([img1, img2])\n",
    "plt.imshow(addh)\n",
    "plt.imshow(img2)"
   ]
  },
  {
   "cell_type": "code",
   "execution_count": 66,
   "id": "ff0d7644-a51a-4050-b008-2023da9f8441",
   "metadata": {},
   "outputs": [],
   "source": [
    "os.makedirs(\"./Cut_mix\", exist_ok=True)"
   ]
  },
  {
   "cell_type": "code",
   "execution_count": 67,
   "id": "b8c2bdde-8fca-4810-85c0-1928e5307a6c",
   "metadata": {},
   "outputs": [
    {
     "name": "stdout",
     "output_type": "stream",
     "text": [
      "<class 'pandas.core.frame.DataFrame'>\n",
      "RangeIndex: 76888 entries, 0 to 76887\n",
      "Data columns (total 4 columns):\n",
      " #   Column    Non-Null Count  Dtype \n",
      "---  ------    --------------  ----- \n",
      " 0   id        76888 non-null  object\n",
      " 1   img_path  76888 non-null  object\n",
      " 2   label     76888 non-null  object\n",
      " 3   len       76888 non-null  int64 \n",
      "dtypes: int64(1), object(3)\n",
      "memory usage: 2.3+ MB\n"
     ]
    }
   ],
   "source": [
    "df.info()"
   ]
  },
  {
   "cell_type": "markdown",
   "id": "bb42275e-1945-4caa-a3c5-5833e6402568",
   "metadata": {},
   "source": [
    "## Count label len"
   ]
  },
  {
   "cell_type": "code",
   "execution_count": 68,
   "id": "02f6f540-b48b-4bb5-84f5-bc6388c289fe",
   "metadata": {},
   "outputs": [
    {
     "data": {
      "text/html": [
       "<div>\n",
       "<style scoped>\n",
       "    .dataframe tbody tr th:only-of-type {\n",
       "        vertical-align: middle;\n",
       "    }\n",
       "\n",
       "    .dataframe tbody tr th {\n",
       "        vertical-align: top;\n",
       "    }\n",
       "\n",
       "    .dataframe thead th {\n",
       "        text-align: right;\n",
       "    }\n",
       "</style>\n",
       "<table border=\"1\" class=\"dataframe\">\n",
       "  <thead>\n",
       "    <tr style=\"text-align: right;\">\n",
       "      <th></th>\n",
       "      <th>len</th>\n",
       "      <th>len_count</th>\n",
       "    </tr>\n",
       "  </thead>\n",
       "  <tbody>\n",
       "    <tr>\n",
       "      <th>0</th>\n",
       "      <td>2</td>\n",
       "      <td>28631</td>\n",
       "    </tr>\n",
       "    <tr>\n",
       "      <th>1</th>\n",
       "      <td>1</td>\n",
       "      <td>23703</td>\n",
       "    </tr>\n",
       "    <tr>\n",
       "      <th>2</th>\n",
       "      <td>3</td>\n",
       "      <td>13514</td>\n",
       "    </tr>\n",
       "    <tr>\n",
       "      <th>3</th>\n",
       "      <td>4</td>\n",
       "      <td>9988</td>\n",
       "    </tr>\n",
       "    <tr>\n",
       "      <th>4</th>\n",
       "      <td>5</td>\n",
       "      <td>1026</td>\n",
       "    </tr>\n",
       "    <tr>\n",
       "      <th>5</th>\n",
       "      <td>6</td>\n",
       "      <td>26</td>\n",
       "    </tr>\n",
       "  </tbody>\n",
       "</table>\n",
       "</div>"
      ],
      "text/plain": [
       "   len  len_count\n",
       "0    2      28631\n",
       "1    1      23703\n",
       "2    3      13514\n",
       "3    4       9988\n",
       "4    5       1026\n",
       "5    6         26"
      ]
     },
     "metadata": {},
     "output_type": "display_data"
    }
   ],
   "source": [
    "df_len_count = pd.DataFrame(df['len'].value_counts())\n",
    "df_len_count.reset_index(inplace=True)\n",
    "df_len_count.columns = ['len', 'len_count']\n",
    "\n",
    "display(df_len_count)"
   ]
  },
  {
   "cell_type": "code",
   "execution_count": 70,
   "id": "fd44cc58-598f-4fc7-89d9-cbb740eb48d1",
   "metadata": {},
   "outputs": [],
   "source": [
    "len2count = {k:v for k,v in zip(df_len_count['len'], df_len_count['len_count'])}"
   ]
  },
  {
   "cell_type": "code",
   "execution_count": 71,
   "id": "d7d55b78-8781-4953-8e68-c33f898e614d",
   "metadata": {},
   "outputs": [
    {
     "data": {
      "text/plain": [
       "{2: 28631, 1: 23703, 3: 13514, 4: 9988, 5: 1026, 6: 26}"
      ]
     },
     "execution_count": 71,
     "metadata": {},
     "output_type": "execute_result"
    }
   ],
   "source": [
    "len2count"
   ]
  },
  {
   "cell_type": "markdown",
   "id": "169d27f5-7a0e-463b-812f-d20fb879d3e2",
   "metadata": {},
   "source": [
    "## Data Argumentation"
   ]
  },
  {
   "cell_type": "code",
   "execution_count": 78,
   "id": "cde8d3de-6b05-4b8b-98f4-b7fd5e1340ab",
   "metadata": {},
   "outputs": [
    {
     "data": {
      "application/vnd.jupyter.widget-view+json": {
       "model_id": "eb930ec64ecb41428ef073e523d01972",
       "version_major": 2,
       "version_minor": 0
      },
      "text/plain": [
       "  0%|          | 0/100000 [00:00<?, ?it/s]"
      ]
     },
     "metadata": {},
     "output_type": "display_data"
    }
   ],
   "source": [
    "idx = 76888 \n",
    "for i in tqdm(range(200000)):\n",
    "    select1, select2 = random.randint(0, 76888), random.randint(0, 76888)\n",
    "    imgFile1 = f'./train/TRAIN_{select1:05d}.png'\n",
    "    imgFile2 = f'./train/TRAIN_{select2:05d}.png'\n",
    "    \n",
    "    if df['len'][select1] + df['len'][select2] > 6:\n",
    "        continue\n",
    "        \n",
    "    if len2count[df['len'][select1] + df['len'][select2]] > 30000:\n",
    "        continue\n",
    "    \n",
    "    # 이미지 읽기\n",
    "    img1 = cv2.imread(imgFile1, 1);\n",
    "    img2 = cv2.imread(imgFile2, 1);\n",
    "    \n",
    "    img1 = cv2.resize(img1,(100,125))\n",
    "    img2 = cv2.resize(img2,(100,125))\n",
    "    \n",
    "    addh = cv2.hconcat([img1, img2])\n",
    "    \n",
    "    new_data = {\n",
    "        'id' : f\"TRAIN_{idx:06d}\",\n",
    "        'img_path' : f\"./Cut_mix/TRAIN_{idx:06d}.png\",\n",
    "        'label' : df['label'][select1] + df['label'][select2],\n",
    "        'len' : df['len'][select1] + df['len'][select2]\n",
    "    }\n",
    "    \n",
    "    df = df.append(new_data, ignore_index=True)\n",
    "    cv2.imwrite(f\"./Cut_mix/TRAIN_{idx:06d}.png\", addh)\n",
    "    idx += 1\n",
    "    len2count[df['len'][select1] + df['len'][select2]] += 1\n",
    "    "
   ]
  },
  {
   "cell_type": "code",
   "execution_count": 79,
   "id": "9a72a7fd-1d2a-4b73-9169-9e54ce8d0469",
   "metadata": {},
   "outputs": [
    {
     "data": {
      "text/plain": [
       "{2: 30001, 1: 23703, 3: 30001, 4: 30001, 5: 30001, 6: 30001}"
      ]
     },
     "execution_count": 79,
     "metadata": {},
     "output_type": "execute_result"
    }
   ],
   "source": [
    "len2count"
   ]
  },
  {
   "cell_type": "code",
   "execution_count": 80,
   "id": "8f906223-690f-46a6-a6a7-3cdec345c58f",
   "metadata": {},
   "outputs": [
    {
     "name": "stdout",
     "output_type": "stream",
     "text": [
      "<class 'pandas.core.frame.DataFrame'>\n",
      "RangeIndex: 173708 entries, 0 to 173707\n",
      "Data columns (total 4 columns):\n",
      " #   Column    Non-Null Count   Dtype \n",
      "---  ------    --------------   ----- \n",
      " 0   id        173708 non-null  object\n",
      " 1   img_path  173708 non-null  object\n",
      " 2   label     173708 non-null  object\n",
      " 3   len       173708 non-null  int64 \n",
      "dtypes: int64(1), object(3)\n",
      "memory usage: 5.3+ MB\n"
     ]
    }
   ],
   "source": [
    "df.info()"
   ]
  },
  {
   "cell_type": "code",
   "execution_count": 82,
   "id": "45dc9e8c-5eb3-45c7-bfc3-cacb1031c2b2",
   "metadata": {},
   "outputs": [
    {
     "data": {
      "text/html": [
       "<div>\n",
       "<style scoped>\n",
       "    .dataframe tbody tr th:only-of-type {\n",
       "        vertical-align: middle;\n",
       "    }\n",
       "\n",
       "    .dataframe tbody tr th {\n",
       "        vertical-align: top;\n",
       "    }\n",
       "\n",
       "    .dataframe thead th {\n",
       "        text-align: right;\n",
       "    }\n",
       "</style>\n",
       "<table border=\"1\" class=\"dataframe\">\n",
       "  <thead>\n",
       "    <tr style=\"text-align: right;\">\n",
       "      <th></th>\n",
       "      <th>len</th>\n",
       "      <th>len_count</th>\n",
       "    </tr>\n",
       "  </thead>\n",
       "  <tbody>\n",
       "    <tr>\n",
       "      <th>0</th>\n",
       "      <td>3</td>\n",
       "      <td>30001</td>\n",
       "    </tr>\n",
       "    <tr>\n",
       "      <th>1</th>\n",
       "      <td>2</td>\n",
       "      <td>30001</td>\n",
       "    </tr>\n",
       "    <tr>\n",
       "      <th>2</th>\n",
       "      <td>4</td>\n",
       "      <td>30001</td>\n",
       "    </tr>\n",
       "    <tr>\n",
       "      <th>3</th>\n",
       "      <td>5</td>\n",
       "      <td>30001</td>\n",
       "    </tr>\n",
       "    <tr>\n",
       "      <th>4</th>\n",
       "      <td>6</td>\n",
       "      <td>30001</td>\n",
       "    </tr>\n",
       "    <tr>\n",
       "      <th>5</th>\n",
       "      <td>1</td>\n",
       "      <td>23703</td>\n",
       "    </tr>\n",
       "  </tbody>\n",
       "</table>\n",
       "</div>"
      ],
      "text/plain": [
       "   len  len_count\n",
       "0    3      30001\n",
       "1    2      30001\n",
       "2    4      30001\n",
       "3    5      30001\n",
       "4    6      30001\n",
       "5    1      23703"
      ]
     },
     "metadata": {},
     "output_type": "display_data"
    }
   ],
   "source": [
    "df_len_count = pd.DataFrame(df['len'].value_counts())\n",
    "df_len_count.reset_index(inplace=True)\n",
    "df_len_count.columns = ['len', 'len_count']\n",
    "\n",
    "display(df_len_count)"
   ]
  },
  {
   "cell_type": "markdown",
   "id": "2d55e608-2415-4bca-9af6-505ce01b64c2",
   "metadata": {},
   "source": [
    "## Visualization"
   ]
  },
  {
   "cell_type": "code",
   "execution_count": 83,
   "id": "7b2e8c16-21b5-44de-acd5-2bf9cfe3ebfc",
   "metadata": {},
   "outputs": [
    {
     "data": {
      "text/plain": [
       "<AxesSubplot:xlabel='len', ylabel='len_count'>"
      ]
     },
     "execution_count": 83,
     "metadata": {},
     "output_type": "execute_result"
    },
    {
     "data": {
      "image/png": "[encoded data removed]",
      "text/plain": [
       "<Figure size 432x288 with 1 Axes>"
      ]
     },
     "metadata": {
      "needs_background": "light"
     },
     "output_type": "display_data"
    }
   ],
   "source": [
    "import seaborn as sns\n",
    "sns.barplot(data=df_len_count, x='len', y='len_count')"
   ]
  },
  {
   "cell_type": "code",
   "execution_count": 84,
   "id": "3f752d29-2005-448f-90e3-1a9dc3a1386f",
   "metadata": {},
   "outputs": [],
   "source": [
    "df.to_csv(\"train.csv\", mode='w', index=False)"
   ]
  },
  {
   "cell_type": "code",
   "execution_count": null,
   "id": "cb66bdb4-5f31-4fc8-9d50-81f7a31ff686",
   "metadata": {},
   "outputs": [],
   "source": []
  }
 ],
 "metadata": {
  "kernelspec": {
   "display_name": "Python 3 (ipykernel)",
   "language": "python",
   "name": "python3"
  },
  "language_info": {
   "codemirror_mode": {
    "name": "ipython",
    "version": 3
   },
   "file_extension": ".py",
   "mimetype": "text/x-python",
   "name": "python",
   "nbconvert_exporter": "python",
   "pygments_lexer": "ipython3",
   "version": "3.8.10"
  }
 },
 "nbformat": 4,
 "nbformat_minor": 5
}
