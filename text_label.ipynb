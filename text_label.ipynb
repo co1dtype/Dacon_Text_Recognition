{
 "cells": [
  {
   "cell_type": "code",
   "execution_count": 31,
   "id": "8cdaf631-2eaf-4e23-89b0-96f4c9626af4",
   "metadata": {},
   "outputs": [],
   "source": [
    "import numpy as np\n",
    "from pytesseract import Output\n",
    "import pytesseract\n",
    "import cv2\n",
    "from PIL import Image"
   ]
  },
  {
   "cell_type": "code",
   "execution_count": 32,
   "id": "8c1410c1-06f1-4b4d-9202-ae3329f7a1ba",
   "metadata": {},
   "outputs": [],
   "source": [
    "pytesseract.pytesseract.tesseract_cmd = r'C:\\\\Program Files\\\\Tesseract-OCR\\\\tesseract'\n",
    "config = ('-l kor+eng --oem 3 --psm 11')"
   ]
  },
  {
   "cell_type": "code",
   "execution_count": 51,
   "id": "1925ddee-0638-427f-b9e7-0ee43dbcc251",
   "metadata": {},
   "outputs": [],
   "source": [
    "filename = './train/TRAIN_00005.png'\n",
    "img2 = np.array(Image.open(filename))"
   ]
  },
  {
   "cell_type": "code",
   "execution_count": 52,
   "id": "8856d58b-97d8-4c8c-b57a-a2f534f080ca",
   "metadata": {},
   "outputs": [
    {
     "data": {
      "text/plain": [
       "'오래도록'"
      ]
     },
     "execution_count": 52,
     "metadata": {},
     "output_type": "execute_result"
    }
   ],
   "source": [
    "text = pytesseract.image_to_string(img2, lang='kor').rstrip()\n",
    "text"
   ]
  },
  {
   "cell_type": "code",
   "execution_count": 66,
   "id": "ec986bb4-9cdd-4b2d-b1ef-b94b50208ab3",
   "metadata": {},
   "outputs": [],
   "source": [
    "import pandas as pd\n",
    "df = pd.read_csv('./test.csv')"
   ]
  },
  {
   "cell_type": "code",
   "execution_count": 69,
   "id": "0cd808ac-84be-47fa-b372-2f7d6b12ee12",
   "metadata": {},
   "outputs": [
    {
     "data": {
      "application/vnd.jupyter.widget-view+json": {
       "model_id": "3f9d315e50694d108cb07e04cf2787c2",
       "version_major": 2,
       "version_minor": 0
      },
      "text/plain": [
       "  0%|          | 0/74121 [00:00<?, ?it/s]"
      ]
     },
     "metadata": {},
     "output_type": "display_data"
    }
   ],
   "source": [
    "cnt = 0\n",
    "pred = []\n",
    "\n",
    "from tqdm.auto import tqdm\n",
    "for img_path in tqdm(df['img_path'], total=len(df['img_path'])):\n",
    "    img = np.array(Image.open(img_path))\n",
    "    text = pytesseract.image_to_string(img, lang='kor').rstrip()\n",
    "    pred.append(text)\n"
   ]
  },
  {
   "cell_type": "code",
   "execution_count": 70,
   "id": "ba393e35-7f72-4079-b60a-482c1f69fd30",
   "metadata": {},
   "outputs": [
    {
     "data": {
      "text/plain": [
       "741.2100000000187"
      ]
     },
     "execution_count": 70,
     "metadata": {},
     "output_type": "execute_result"
    }
   ],
   "source": [
    "1 / 0.001349145316442"
   ]
  },
  {
   "cell_type": "markdown",
   "id": "360bb020-a6e9-4280-b616-9d9f2acb174f",
   "metadata": {},
   "source": [
    "# Test submit EDA"
   ]
  },
  {
   "cell_type": "code",
   "execution_count": 111,
   "id": "b435c3c1-2928-4a8d-b5f9-8ccfc2b3258f",
   "metadata": {},
   "outputs": [
    {
     "name": "stdout",
     "output_type": "stream",
     "text": [
      "<class 'pandas.core.frame.DataFrame'>\n",
      "RangeIndex: 74121 entries, 0 to 74120\n",
      "Data columns (total 2 columns):\n",
      " #   Column  Non-Null Count  Dtype \n",
      "---  ------  --------------  ----- \n",
      " 0   id      74121 non-null  object\n",
      " 1   label   74118 non-null  object\n",
      "dtypes: object(2)\n",
      "memory usage: 1.1+ MB\n"
     ]
    }
   ],
   "source": [
    "df = pd.read_csv('./submission6000.csv')\n",
    "df.info()"
   ]
  },
  {
   "cell_type": "code",
   "execution_count": 112,
   "id": "c7c8d00c-7560-46aa-a0aa-a685a156d6e9",
   "metadata": {},
   "outputs": [
    {
     "data": {
      "text/html": [
       "<div>\n",
       "<style scoped>\n",
       "    .dataframe tbody tr th:only-of-type {\n",
       "        vertical-align: middle;\n",
       "    }\n",
       "\n",
       "    .dataframe tbody tr th {\n",
       "        vertical-align: top;\n",
       "    }\n",
       "\n",
       "    .dataframe thead th {\n",
       "        text-align: right;\n",
       "    }\n",
       "</style>\n",
       "<table border=\"1\" class=\"dataframe\">\n",
       "  <thead>\n",
       "    <tr style=\"text-align: right;\">\n",
       "      <th></th>\n",
       "      <th>id</th>\n",
       "      <th>label</th>\n",
       "    </tr>\n",
       "  </thead>\n",
       "  <tbody>\n",
       "    <tr>\n",
       "      <th>36054</th>\n",
       "      <td>TEST_36054</td>\n",
       "      <td>NaN</td>\n",
       "    </tr>\n",
       "    <tr>\n",
       "      <th>68480</th>\n",
       "      <td>TEST_68480</td>\n",
       "      <td>NaN</td>\n",
       "    </tr>\n",
       "    <tr>\n",
       "      <th>72592</th>\n",
       "      <td>TEST_72592</td>\n",
       "      <td>NaN</td>\n",
       "    </tr>\n",
       "  </tbody>\n",
       "</table>\n",
       "</div>"
      ],
      "text/plain": [
       "               id label\n",
       "36054  TEST_36054   NaN\n",
       "68480  TEST_68480   NaN\n",
       "72592  TEST_72592   NaN"
      ]
     },
     "execution_count": 112,
     "metadata": {},
     "output_type": "execute_result"
    }
   ],
   "source": [
    "df[df['label'].isnull()]"
   ]
  },
  {
   "cell_type": "code",
   "execution_count": 82,
   "id": "f0ab7d86-4c60-4865-a890-3ab70bc72f06",
   "metadata": {},
   "outputs": [],
   "source": [
    "from collections import Counter\n",
    "labels = df['label'].copy()\n",
    "cnt = dict(Counter(labels))\n",
    "cnt = sorted(cnt.items(), key=lambda x: x[1])"
   ]
  },
  {
   "cell_type": "code",
   "execution_count": 155,
   "id": "90dcdb97-74f6-4f86-9fa7-35184a5da4ea",
   "metadata": {},
   "outputs": [
    {
     "data": {
      "text/plain": [
       "11953"
      ]
     },
     "execution_count": 155,
     "metadata": {},
     "output_type": "execute_result"
    }
   ],
   "source": [
    "len(cnt)"
   ]
  },
  {
   "cell_type": "code",
   "execution_count": 371,
   "id": "59a26f4b-b49b-4d95-b490-f0fe106e940e",
   "metadata": {},
   "outputs": [
    {
     "data": {
      "text/plain": [
       "799"
      ]
     },
     "execution_count": 371,
     "metadata": {},
     "output_type": "execute_result"
    }
   ],
   "source": [
    "cnt_2 = [i for i in cnt if i[1] == 2]\n",
    "len(cnt_2)"
   ]
  },
  {
   "cell_type": "code",
   "execution_count": 1558,
   "id": "56e99362-0110-4326-97d5-a2977db578be",
   "metadata": {},
   "outputs": [
    {
     "ename": "IndexError",
     "evalue": "list index out of range",
     "output_type": "error",
     "traceback": [
      "\u001b[1;31m---------------------------------------------------------------------------\u001b[0m",
      "\u001b[1;31mIndexError\u001b[0m                                Traceback (most recent call last)",
      "\u001b[1;32m~\\AppData\\Local\\Temp\\ipykernel_11592\\2847514890.py\u001b[0m in \u001b[0;36m<module>\u001b[1;34m\u001b[0m\n\u001b[0;32m      1\u001b[0m \u001b[0midx\u001b[0m \u001b[1;33m=\u001b[0m \u001b[1;36m799\u001b[0m\u001b[1;33m\u001b[0m\u001b[1;33m\u001b[0m\u001b[0m\n\u001b[1;32m----> 2\u001b[1;33m \u001b[0mtarget\u001b[0m \u001b[1;33m=\u001b[0m \u001b[0mcnt_2\u001b[0m\u001b[1;33m[\u001b[0m\u001b[0midx\u001b[0m\u001b[1;33m]\u001b[0m\u001b[1;33m[\u001b[0m\u001b[1;36m0\u001b[0m\u001b[1;33m]\u001b[0m\u001b[1;33m\u001b[0m\u001b[1;33m\u001b[0m\u001b[0m\n\u001b[0m\u001b[0;32m      3\u001b[0m \u001b[0mprint\u001b[0m\u001b[1;33m(\u001b[0m\u001b[0mtarget\u001b[0m\u001b[1;33m,\u001b[0m \u001b[0mcnt_2\u001b[0m\u001b[1;33m[\u001b[0m\u001b[0midx\u001b[0m\u001b[1;33m]\u001b[0m\u001b[1;33m[\u001b[0m\u001b[1;36m1\u001b[0m\u001b[1;33m]\u001b[0m\u001b[1;33m)\u001b[0m\u001b[1;33m\u001b[0m\u001b[1;33m\u001b[0m\u001b[0m\n\u001b[0;32m      4\u001b[0m \u001b[1;33m\u001b[0m\u001b[0m\n\u001b[0;32m      5\u001b[0m \u001b[1;32mfrom\u001b[0m \u001b[0mPIL\u001b[0m \u001b[1;32mimport\u001b[0m \u001b[0mImage\u001b[0m\u001b[1;33m\u001b[0m\u001b[1;33m\u001b[0m\u001b[0m\n",
      "\u001b[1;31mIndexError\u001b[0m: list index out of range"
     ]
    }
   ],
   "source": [
    "idx = 799\n",
    "target = cnt_2[idx][0]\n",
    "print(target, cnt_2[idx][1])\n",
    "\n",
    "from PIL import Image \n",
    "freq_df = df.loc[df['label'] == target]\n",
    "paths = freq_df['id'].tolist()\n",
    "img = Image.open(f\"./test/{paths[1]}.png\")\n",
    "plt.imshow(img)"
   ]
  },
  {
   "cell_type": "code",
   "execution_count": 1222,
   "id": "8d8808da-b121-4b74-bd49-e3cabf991547",
   "metadata": {},
   "outputs": [
    {
     "data": {
      "text/plain": [
       "['TEST_32904', 'TEST_34484', 'TEST_38560', 'TEST_51444']"
      ]
     },
     "execution_count": 1222,
     "metadata": {},
     "output_type": "execute_result"
    }
   ],
   "source": [
    "paths"
   ]
  },
  {
   "cell_type": "code",
   "execution_count": 1224,
   "id": "329591af-7411-44d6-867f-901991fa3d96",
   "metadata": {},
   "outputs": [],
   "source": [
    "df['label'][32904] = \"의외\"\n",
    "df['label'][34484] = \"의외\"\n",
    "df['label'][38560] = \"의외\"\n",
    "df['label'][51444] = \"의외\""
   ]
  },
  {
   "cell_type": "code",
   "execution_count": 1552,
   "id": "52a1d4c1-825b-46e3-8463-0ae6fb80b796",
   "metadata": {},
   "outputs": [
    {
     "name": "stdout",
     "output_type": "stream",
     "text": [
      "Edit\n",
      "Edit\n"
     ]
    }
   ],
   "source": [
    "for i in range(74121):\n",
    "    if df['label'][i] == target:\n",
    "        df['label'][i] = \"그러니까\"\n",
    "        print(\"Edit\")"
   ]
  },
  {
   "cell_type": "code",
   "execution_count": 1559,
   "id": "1cefb638-b8f6-447e-9fad-0e0d6dd5288a",
   "metadata": {},
   "outputs": [],
   "source": [
    "df.to_csv('./result3.csv', index=False)"
   ]
  },
  {
   "cell_type": "code",
   "execution_count": null,
   "id": "d094a4b1-d3b0-4038-b93a-ad432d4fc9d3",
   "metadata": {},
   "outputs": [],
   "source": []
  }
 ],
 "metadata": {
  "kernelspec": {
   "display_name": "Python 3 (ipykernel)",
   "language": "python",
   "name": "python3"
  },
  "language_info": {
   "codemirror_mode": {
    "name": "ipython",
    "version": 3
   },
   "file_extension": ".py",
   "mimetype": "text/x-python",
   "name": "python",
   "nbconvert_exporter": "python",
   "pygments_lexer": "ipython3",
   "version": "3.9.13"
  }
 },
 "nbformat": 4,
 "nbformat_minor": 5
}
