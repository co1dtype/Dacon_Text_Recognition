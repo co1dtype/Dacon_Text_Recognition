{
 "cells": [
  {
   "cell_type": "markdown",
   "metadata": {},
   "source": [
    "## Hyperparameter Setting & Fix Random Seed"
   ]
  },
  {
   "cell_type": "code",
   "execution_count": 2,
   "metadata": {},
   "outputs": [],
   "source": [
    "CFG = {\n",
    "    'IMG_HEIGHT_SIZE':128,\n",
    "    'IMG_WIDTH_SIZE':332,\n",
    "    'EPOCHS':20,\n",
    "    'LEARNING_RATE':3e-3,\n",
    "    'BATCH_SIZE':128,\n",
    "    'NUM_WORKERS':5, # 본인의 GPU, CPU 환경에 맞게 설정\n",
    "    'SEED':41\n",
    "}"
   ]
  },
  {
   "cell_type": "code",
   "execution_count": 3,
   "metadata": {},
   "outputs": [],
   "source": [
    "import os\n",
    "import random\n",
    "\n",
    "import numpy as np\n",
    "import pandas as pd\n",
    "import torch\n",
    "\n",
    "def seed_everything(seed):\n",
    "    random.seed(seed)\n",
    "    os.environ['PYTHONHASHSEED'] = str(seed)\n",
    "    np.random.seed(seed)\n",
    "    torch.manual_seed(seed)\n",
    "    torch.cuda.manual_seed(seed)\n",
    "    torch.backends.cudnn.deterministic = True\n",
    "    torch.backends.cudnn.benchmark = True\n",
    "\n",
    "seed_everything(CFG['SEED']) # Seed 고정"
   ]
  },
  {
   "cell_type": "markdown",
   "metadata": {},
   "source": [
    "## Data Load & Split"
   ]
  },
  {
   "cell_type": "code",
   "execution_count": 4,
   "metadata": {},
   "outputs": [
    {
     "data": {
      "text/html": [
       "<div>\n",
       "<style scoped>\n",
       "    .dataframe tbody tr th:only-of-type {\n",
       "        vertical-align: middle;\n",
       "    }\n",
       "\n",
       "    .dataframe tbody tr th {\n",
       "        vertical-align: top;\n",
       "    }\n",
       "\n",
       "    .dataframe thead th {\n",
       "        text-align: right;\n",
       "    }\n",
       "</style>\n",
       "<table border=\"1\" class=\"dataframe\">\n",
       "  <thead>\n",
       "    <tr style=\"text-align: right;\">\n",
       "      <th></th>\n",
       "      <th>id</th>\n",
       "      <th>img_path</th>\n",
       "      <th>label</th>\n",
       "    </tr>\n",
       "  </thead>\n",
       "  <tbody>\n",
       "    <tr>\n",
       "      <th>0</th>\n",
       "      <td>TRAIN_00000</td>\n",
       "      <td>./train/TRAIN_00000.png</td>\n",
       "      <td>빨간색</td>\n",
       "    </tr>\n",
       "    <tr>\n",
       "      <th>1</th>\n",
       "      <td>TRAIN_00001</td>\n",
       "      <td>./train/TRAIN_00001.png</td>\n",
       "      <td>머</td>\n",
       "    </tr>\n",
       "    <tr>\n",
       "      <th>2</th>\n",
       "      <td>TRAIN_00002</td>\n",
       "      <td>./train/TRAIN_00002.png</td>\n",
       "      <td>차차</td>\n",
       "    </tr>\n",
       "    <tr>\n",
       "      <th>3</th>\n",
       "      <td>TRAIN_00003</td>\n",
       "      <td>./train/TRAIN_00003.png</td>\n",
       "      <td>써</td>\n",
       "    </tr>\n",
       "    <tr>\n",
       "      <th>4</th>\n",
       "      <td>TRAIN_00004</td>\n",
       "      <td>./train/TRAIN_00004.png</td>\n",
       "      <td>놓치다</td>\n",
       "    </tr>\n",
       "  </tbody>\n",
       "</table>\n",
       "</div>"
      ],
      "text/plain": [
       "            id                 img_path label\n",
       "0  TRAIN_00000  ./train/TRAIN_00000.png   빨간색\n",
       "1  TRAIN_00001  ./train/TRAIN_00001.png     머\n",
       "2  TRAIN_00002  ./train/TRAIN_00002.png    차차\n",
       "3  TRAIN_00003  ./train/TRAIN_00003.png     써\n",
       "4  TRAIN_00004  ./train/TRAIN_00004.png   놓치다"
      ]
     },
     "execution_count": 4,
     "metadata": {},
     "output_type": "execute_result"
    }
   ],
   "source": [
    "import pandas as pd\n",
    "\n",
    "df = pd.read_csv('train.csv')\n",
    "train = pd.read_csv('train.csv')\n",
    "df.head()"
   ]
  },
  {
   "cell_type": "code",
   "execution_count": 42,
   "metadata": {},
   "outputs": [],
   "source": [
    "# 제공된 학습데이터 중 1글자 샘플들의 단어사전이 학습/테스트 데이터의 모든 글자를 담고 있으므로 학습 데이터로 우선 배치\n",
    "df['len'] = df['label'].str.len()\n",
    "train_v1 = df[df['len']==1]"
   ]
  },
  {
   "cell_type": "code",
   "execution_count": 43,
   "metadata": {},
   "outputs": [],
   "source": [
    "from sklearn.model_selection import train_test_split\n",
    "\n",
    "# 제공된 학습데이터 중 2글자 이상의 샘플들에 대해서 단어길이를 고려하여 Train (80%) / Validation (20%) 분할\n",
    "df = df[df['len']>1]\n",
    "train_v2, val, _, _ = train_test_split(df, df['len'], test_size=0.1295, random_state=CFG['SEED'])"
   ]
  },
  {
   "cell_type": "code",
   "execution_count": 44,
   "metadata": {},
   "outputs": [],
   "source": [
    "train = pd.concat([train_v1, train_v2])"
   ]
  },
  {
   "cell_type": "code",
   "execution_count": 52,
   "metadata": {},
   "outputs": [],
   "source": [
    "test = pd.read_csv('test.csv')"
   ]
  },
  {
   "cell_type": "markdown",
   "metadata": {},
   "source": [
    "## Create LMDB Dataset"
   ]
  },
  {
   "cell_type": "code",
   "execution_count": 6,
   "metadata": {},
   "outputs": [],
   "source": [
    "try:\n",
    "    import lmdb\n",
    "except ImportError:\n",
    "    %pip install lmdb\n",
    "    import lmdb\n",
    "\n",
    "try:\n",
    "    from tqdm import tqdm\n",
    "except ImportError:\n",
    "    %pip install tqdm\n",
    "    from tqdm import tqdm\n",
    "try:\n",
    "    import fire\n",
    "except ImportError:\n",
    "    %pip install fire\n",
    "    import fire"
   ]
  },
  {
   "cell_type": "code",
   "execution_count": 7,
   "metadata": {},
   "outputs": [],
   "source": [
    "# save dir 생성\n",
    "train_dir = './data/lmdb/train_lmdb'\n",
    "val_dir = './data/lmdb/val_lmdb'\n",
    "test_dir = './data/lmdb/test_lmdb'\n",
    "os.makedirs(train_dir, exist_ok=True)\n",
    "os.makedirs(val_dir, exist_ok=True)\n",
    "os.makedirs(test_dir, exist_ok=True)"
   ]
  },
  {
   "cell_type": "code",
   "execution_count": 63,
   "metadata": {},
   "outputs": [],
   "source": [
    "def write_cache(env, cache):\n",
    "    with env.begin(write=True) as txn:\n",
    "        for k, v in cache.items():\n",
    "            txn.put(k, v)"
   ]
  },
  {
   "cell_type": "code",
   "execution_count": 64,
   "metadata": {},
   "outputs": [],
   "source": [
    "def write_lmdb(df, env, bar_desc='train'):\n",
    "    cnt = 1\n",
    "    cache = {}\n",
    "    for i in tqdm(range(len(df)), desc=bar_desc):\n",
    "        img_path = df.iloc[i]['img_path']\n",
    "        label = df.iloc[i]['label']\n",
    "        \n",
    "        with open(img_path, 'rb') as f:\n",
    "            img_bin = f.read()\n",
    "        \n",
    "        image_key = f'image-{cnt:09d}'.encode()\n",
    "        label_key = f'label-{cnt:09d}'.encode()\n",
    "\n",
    "        cache[image_key] = img_bin\n",
    "        cache[label_key] = label.encode()\n",
    "\n",
    "        if cnt % 1000 == 0:\n",
    "            write_cache(env, cache)\n",
    "            cache = {}\n",
    "        cnt += 1\n",
    "\n",
    "    # remain cache\n",
    "    cache['num-samples'.encode()] = str(cnt-1).encode()\n",
    "    write_cache(env, cache)"
   ]
  },
  {
   "cell_type": "code",
   "execution_count": 66,
   "metadata": {},
   "outputs": [],
   "source": [
    "def create_and_write_lmdb():\n",
    "    env_train = lmdb.open(train_dir, map_size=1099511627776)\n",
    "    #env_val = lmdb.open(val_dir, map_size=1099511627776)\n",
    "    #env_test = lmdb.open(test_dir, map_size=1099511627776)\n",
    "\n",
    "    write_lmdb(train, env_train, bar_desc='train')\n",
    "    #write_lmdb(val, env_val, bar_desc='val')\n",
    "    #write_lmdb(test, test_dir, bar_desc='test')\n",
    "\n",
    "    env_train.close()\n",
    "    #env_val.close()\n",
    "    #env_test.close()"
   ]
  },
  {
   "cell_type": "code",
   "execution_count": 67,
   "metadata": {},
   "outputs": [
    {
     "name": "stderr",
     "output_type": "stream",
     "text": [
      "train: 100% 76888/76888 [00:19<00:00, 3977.36it/s]\n"
     ]
    }
   ],
   "source": [
    "fire.Fire(create_and_write_lmdb, command='')"
   ]
  },
  {
   "cell_type": "markdown",
   "metadata": {},
   "source": [
    "## 생성이 잘 되었는지 체크"
   ]
  },
  {
   "cell_type": "code",
   "execution_count": 8,
   "metadata": {},
   "outputs": [
    {
     "name": "stdout",
     "output_type": "stream",
     "text": [
      "머\n"
     ]
    },
    {
     "data": {
      "text/plain": [
       "<matplotlib.image.AxesImage at 0x7fd551a3bf40>"
      ]
     },
     "execution_count": 8,
     "metadata": {},
     "output_type": "execute_result"
    },
    {
     "data": {
      "image/png": "[encoded data removed]",
      "text/plain": [
       "<Figure size 432x288 with 1 Axes>"
      ]
     },
     "metadata": {
      "needs_background": "light"
     },
     "output_type": "display_data"
    }
   ],
   "source": [
    "import cv2\n",
    "import matplotlib.pyplot as plt\n",
    "\n",
    "lmdb.open(train_dir, readonly=True, lock=False).stat()\n",
    "\n",
    "# lmdb read\n",
    "env = lmdb.open(train_dir, readonly=True, lock=False)\n",
    "txn = env.begin()\n",
    "label = txn.get('label-000000002'.encode()).decode()\n",
    "img = cv2.imdecode(np.frombuffer(txn.get('image-000000002'.encode()), dtype=np.uint8), cv2.IMREAD_COLOR)\n",
    "print(label)\n",
    "plt.imshow(img)\n"
   ]
  },
  {
   "cell_type": "code",
   "execution_count": 9,
   "metadata": {},
   "outputs": [
    {
     "data": {
      "text/plain": [
       "str"
      ]
     },
     "execution_count": 9,
     "metadata": {},
     "output_type": "execute_result"
    }
   ],
   "source": [
    "type(label)"
   ]
  },
  {
   "cell_type": "code",
   "execution_count": null,
   "metadata": {},
   "outputs": [],
   "source": []
  }
 ],
 "metadata": {
  "kernelspec": {
   "display_name": "Python 3 (ipykernel)",
   "language": "python",
   "name": "python3"
  },
  "language_info": {
   "codemirror_mode": {
    "name": "ipython",
    "version": 3
   },
   "file_extension": ".py",
   "mimetype": "text/x-python",
   "name": "python",
   "nbconvert_exporter": "python",
   "pygments_lexer": "ipython3",
   "version": "3.8.10"
  },
  "vscode": {
   "interpreter": {
    "hash": "6f8f996b3d7939c6072b6893f961750295caef016488456ad59cadf2257c7c6b"
   }
  }
 },
 "nbformat": 4,
 "nbformat_minor": 4
}
